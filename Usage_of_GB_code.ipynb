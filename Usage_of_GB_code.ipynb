{
 "cells": [
  {
   "cell_type": "code",
   "execution_count": 1,
   "metadata": {},
   "outputs": [],
   "source": [
    "from math import cos, sin, asin, acos, gcd, atan2\n",
    "import numpy as np\n",
    "from numpy import array, dot, degrees, cross\n",
    "from numpy.linalg import inv, det, solve, norm\n",
    "import pandas as pd\n",
    "import matplotlib.pyplot as plt\n",
    "from mpl_toolkits.mplot3d import Axes3D\n",
    "\n",
    "# import the python scripts:\n",
    "import csl_generator as csl\n",
    "import gb_generator as gbc\n",
    "\n",
    "%matplotlib notebook"
   ]
  },
  {
   "cell_type": "markdown",
   "metadata": {},
   "source": [
    "## Produce Lists of CSL boundaries for any given rotation axis (hkl) :\n",
    "\n"
   ]
  },
  {
   "cell_type": "code",
   "execution_count": 2,
   "metadata": {},
   "outputs": [
    {
     "name": "stdout",
     "output_type": "stream",
     "text": [
      "Sigma:     1  Theta:   0.00 \n",
      "Sigma:     5  Theta:  101.54 \n",
      "Sigma:     7  Theta:  135.58 \n",
      "Sigma:    11  Theta:  62.96 \n",
      "Sigma:    15  Theta:  78.46 \n",
      "Sigma:    21  Theta:  44.42 \n",
      "Sigma:    25  Theta:  156.93 \n",
      "Sigma:    29  Theta:  149.55 \n",
      "Sigma:    31  Theta:  52.20 \n",
      "Sigma:    33  Theta:  117.04 \n",
      "Sigma:    35  Theta:  34.05 \n",
      "Sigma:    49  Theta:  88.83 \n"
     ]
    }
   ],
   "source": [
    "# for example: [1, 0, 0], [1, 1, 0] or [1, 1, 1]\n",
    "axis = np.array([1, 1, 2])\n",
    "\n",
    "# list Sigma boundaries < 50\n",
    "csl.print_list(axis,50)\n"
   ]
  },
  {
   "cell_type": "markdown",
   "metadata": {},
   "source": [
    "## Select a sigma and get the characteristics of the GB:"
   ]
  },
  {
   "cell_type": "code",
   "execution_count": 3,
   "metadata": {},
   "outputs": [
    {
     "name": "stdout",
     "output_type": "stream",
     "text": [
      "Angle: 52.200277564572765 \n",
      " Sigma: 31 \n",
      " Minimal cells: \n",
      " [[-1 -3  1]\n",
      " [ 4 -1  1]\n",
      " [ 0  1  2]] \n",
      " [[-3 -1  1]\n",
      " [ 2 -3  1]\n",
      " [ 2  1  2]] \n",
      "\n"
     ]
    }
   ],
   "source": [
    "# pick a sigma for this axis, ex: 19.\n",
    "sigma = 31\n",
    "\n",
    "theta, m, n = csl.get_theta_m_n_list(axis,sigma)[0]\n",
    "\n",
    "R = csl.rot(axis, theta)\n",
    "\n",
    "# Minimal CSL cells. The plane orientations and the orthogonal cells\n",
    "# will be produced from these original cells.\n",
    "M1, M2 = csl.Create_minimal_cell_Method_1(sigma,axis,R)\n",
    "\n",
    "\n",
    "print('Angle:',degrees(theta),'\\n','Sigma:',sigma,'\\n', 'Minimal cells:','\\n', M1,'\\n',M2,'\\n', )"
   ]
  },
  {
   "cell_type": "markdown",
   "metadata": {},
   "source": [
    "## Produce Lists of GB planes for the chosen boundary :\n"
   ]
  },
  {
   "cell_type": "code",
   "execution_count": 6,
   "metadata": {},
   "outputs": [
    {
     "data": {
      "text/html": [
       "<div>\n",
       "<style scoped>\n",
       "    .dataframe tbody tr th:only-of-type {\n",
       "        vertical-align: middle;\n",
       "    }\n",
       "\n",
       "    .dataframe tbody tr th {\n",
       "        vertical-align: top;\n",
       "    }\n",
       "\n",
       "    .dataframe thead th {\n",
       "        text-align: right;\n",
       "    }\n",
       "</style>\n",
       "<table border=\"1\" class=\"dataframe\">\n",
       "  <thead>\n",
       "    <tr style=\"text-align: right;\">\n",
       "      <th></th>\n",
       "      <th>GB1</th>\n",
       "      <th>GB2</th>\n",
       "      <th>Type</th>\n",
       "    </tr>\n",
       "  </thead>\n",
       "  <tbody>\n",
       "    <tr>\n",
       "      <th>0</th>\n",
       "      <td>[3, 1, -1]</td>\n",
       "      <td>[1, 3, -1]</td>\n",
       "      <td>Mixed</td>\n",
       "    </tr>\n",
       "    <tr>\n",
       "      <th>1</th>\n",
       "      <td>[-1, -1, -2]</td>\n",
       "      <td>[-1, -1, -2]</td>\n",
       "      <td>Twist</td>\n",
       "    </tr>\n",
       "    <tr>\n",
       "      <th>2</th>\n",
       "      <td>[1, 1, 2]</td>\n",
       "      <td>[1, 1, 2]</td>\n",
       "      <td>Twist</td>\n",
       "    </tr>\n",
       "    <tr>\n",
       "      <th>3</th>\n",
       "      <td>[1, -4, 0]</td>\n",
       "      <td>[3, -2, -2]</td>\n",
       "      <td>Mixed</td>\n",
       "    </tr>\n",
       "    <tr>\n",
       "      <th>4</th>\n",
       "      <td>[-3, -1, 1]</td>\n",
       "      <td>[-1, -3, 1]</td>\n",
       "      <td>Mixed</td>\n",
       "    </tr>\n",
       "  </tbody>\n",
       "</table>\n",
       "</div>"
      ],
      "text/plain": [
       "            GB1           GB2   Type\n",
       "0    [3, 1, -1]    [1, 3, -1]  Mixed\n",
       "1  [-1, -1, -2]  [-1, -1, -2]  Twist\n",
       "2     [1, 1, 2]     [1, 1, 2]  Twist\n",
       "3    [1, -4, 0]   [3, -2, -2]  Mixed\n",
       "4   [-3, -1, 1]   [-1, -3, 1]  Mixed"
      ]
     },
     "execution_count": 6,
     "metadata": {},
     "output_type": "execute_result"
    }
   ],
   "source": [
    "# the higher the limit the higher the indices of GB planes produced.\n",
    "lim = 5\n",
    "\n",
    "V1, V2, M, Gb = csl.Create_Possible_GB_Plane_List(axis, m,n,lim)\n",
    "\n",
    "df = pd.DataFrame(\n",
    "    {'GB1': list(V1),\n",
    "     'GB2': list(V2),\n",
    "     'Type': Gb\n",
    "    })\n",
    "\n",
    "df.head()"
   ]
  },
  {
   "cell_type": "markdown",
   "metadata": {},
   "source": [
    "## Criteria for finding the GB plane of interest*: \n",
    "\n",
    "###  1- Based on the type of GB plane: \n",
    "\n",
    "#### _* The following criteria searches the generated data frame. To extend the search you can increase the limit (lim)_\n",
    "#### _in the above cell._"
   ]
  },
  {
   "cell_type": "code",
   "execution_count": 7,
   "metadata": {},
   "outputs": [
    {
     "data": {
      "text/html": [
       "<div>\n",
       "<style scoped>\n",
       "    .dataframe tbody tr th:only-of-type {\n",
       "        vertical-align: middle;\n",
       "    }\n",
       "\n",
       "    .dataframe tbody tr th {\n",
       "        vertical-align: top;\n",
       "    }\n",
       "\n",
       "    .dataframe thead th {\n",
       "        text-align: right;\n",
       "    }\n",
       "</style>\n",
       "<table border=\"1\" class=\"dataframe\">\n",
       "  <thead>\n",
       "    <tr style=\"text-align: right;\">\n",
       "      <th></th>\n",
       "      <th>GB1</th>\n",
       "      <th>GB2</th>\n",
       "      <th>Type</th>\n",
       "    </tr>\n",
       "  </thead>\n",
       "  <tbody>\n",
       "    <tr>\n",
       "      <th>27</th>\n",
       "      <td>[-3, 7, -2]</td>\n",
       "      <td>[-7, 3, 2]</td>\n",
       "      <td>Symmetric Tilt</td>\n",
       "    </tr>\n",
       "    <tr>\n",
       "      <th>43</th>\n",
       "      <td>[3, -7, 2]</td>\n",
       "      <td>[7, -3, -2]</td>\n",
       "      <td>Symmetric Tilt</td>\n",
       "    </tr>\n",
       "  </tbody>\n",
       "</table>\n",
       "</div>"
      ],
      "text/plain": [
       "            GB1          GB2            Type\n",
       "27  [-3, 7, -2]   [-7, 3, 2]  Symmetric Tilt\n",
       "43   [3, -7, 2]  [7, -3, -2]  Symmetric Tilt"
      ]
     },
     "execution_count": 7,
     "metadata": {},
     "output_type": "execute_result"
    }
   ],
   "source": [
    "# Gb types: Symmetric Tilt, Tilt, Twist, Mixed\n",
    "\n",
    "df[df['Type'] == 'Symmetric Tilt'].head()"
   ]
  },
  {
   "cell_type": "markdown",
   "metadata": {},
   "source": [
    "\n",
    "### 2 - Based on the minimum number of atoms in the orthogonal cell:\n",
    "####  _This can be of interest for DFT calculations that require smaller cells. The search may take a few minutes if your original limit_\n",
    "#### _is large as it must calculate all the orthogonal cells to know the number of atoms._\n"
   ]
  },
  {
   "cell_type": "code",
   "execution_count": 8,
   "metadata": {},
   "outputs": [],
   "source": [
    "basis = 'fcc'\n",
    "Number = np.zeros(len(V1))\n",
    "Number_atoms = []\n",
    "for i in range((len(V1))):\n",
    "    Number_atoms.append(csl.Find_Orthogonal_cell(basis,axis,m,n,V1[i])[2])"
   ]
  },
  {
   "cell_type": "code",
   "execution_count": null,
   "metadata": {},
   "outputs": [],
   "source": [
    "# show me Gb planes that have orthogonal cells with less than max_num_atoms, here: 500. \n",
    "\n",
    "df['Number'] = Number_atoms  \n",
    "\n",
    "max_num_atoms = 500\n",
    "df[df['Number'] < max_num_atoms]"
   ]
  },
  {
   "cell_type": "markdown",
   "metadata": {},
   "source": [
    "### 3- Based on proximity to a particular type boundary, for example the Symmetric tilts:\n",
    "####  _This is how I created various steps on grain boundaries with vicinal orientations in the following work:_\n",
    "#### __(https://journals.aps.org/prmaterials/abstract/10.1103/PhysRevMaterials.2.043601)__\n",
    "#### _See also here:_\n",
    "__(https://www.mpie.de/2955247/GrainBoundaryDynamics)__"
   ]
  },
  {
   "cell_type": "code",
   "execution_count": null,
   "metadata": {},
   "outputs": [],
   "source": [
    "SymmTiltGbs = []\n",
    "for i in range(len(V1)):\n",
    "    if str(Gb[i]) == 'Symmetric Tilt':\n",
    "        SymmTiltGbs.append(V1[i])\n",
    "\n",
    "# Find GBs less than Delta (here 5) degrees from any of the symmetric tilt boundaries in this system\n",
    "\n",
    "Delta = 5\n",
    "Min_angles = []\n",
    "for i in range(len(V1)):\n",
    "    angles = []\n",
    "    for j in range(len(SymmTiltGbs)):\n",
    "        angles.append(csl.angv(V1[i],SymmTiltGbs[j]))\n",
    "    Min_angles.append(min(angles))    \n"
   ]
  },
  {
   "cell_type": "code",
   "execution_count": null,
   "metadata": {},
   "outputs": [],
   "source": [
    "df['Angles'] = Min_angles\n",
    "\n",
    "df[df['Angles'] < Delta]"
   ]
  },
  {
   "cell_type": "markdown",
   "metadata": {},
   "source": [
    "## Select a GB plane and go on:\n",
    "### You only need to pick the GB1 plane, from any of the three criteria in the cells above"
   ]
  },
  {
   "cell_type": "code",
   "execution_count": null,
   "metadata": {},
   "outputs": [],
   "source": [
    "GB_plane = [-7, 18, -4]\n",
    "# lattice parameter\n",
    "LatP = 4\n",
    "basis = 'fcc'"
   ]
  },
  {
   "cell_type": "code",
   "execution_count": null,
   "metadata": {},
   "outputs": [],
   "source": [
    "# just a piece of info, how much of this mixed boundary is tilt or twist?\n",
    "csl.Tilt_Twist_comp(GB_plane, axis, m, n)"
   ]
  },
  {
   "cell_type": "code",
   "execution_count": null,
   "metadata": {},
   "outputs": [],
   "source": [
    "# instantiate a GB:\n",
    "my_gb = gbc.GB_character()\n",
    "\n",
    "# give all the characteristics\n",
    "my_gb.ParseGB (axis, basis, LatP, m, n, GB_plane)\n",
    "\n",
    "# Create the bicrystal\n",
    "my_gb.CSL_Bicrystal_Atom_generator()\n",
    "\n",
    "# NOW CREATE MY GB, CONSIDER MICROSCOPIC DEGREES OF FREEDOM:\n",
    "\n",
    "# remove atoms closer than this 'my_gb.overD' fraction of the lattice parameter. If put to 0 no atoms will be removed.\n",
    "# if greater than 0, you must immediately input either g1 (grain 1) or g2 (grain 2) from which atoms shall \n",
    "# be removed.\n",
    "\n",
    "my_gb.overD = 0.3\n",
    "\n",
    "# put in the rigib body translation to False: it shows the as constructed GB after atom removal, put it to True: \n",
    "# you must input two integers a and b to create a grid. by default a= 10 and b= 5 and you will produce 50 initial\n",
    "# structures. For mor info, read the README.\n",
    "\n",
    "rigid = True\n",
    "\n",
    "# supercell dimensions [x,y,z], with x along GB normal and y and z in the GB plane\n",
    "\n",
    "dim = [3, 4, 5]\n",
    "\n",
    "#several possible scenarios:\n",
    "    \n",
    "# my_gb.WriteGBT(my_gb.overD,'g1', False, dim[0], dim[1], dim[2])\n",
    "# my_gb.WriteGBT(0, True, 10, 5, dim[0], dim[1], dim[2])\n",
    "# my_gb.WriteGB(0, False ,dim[0], dim[1], dim[2])\n",
    "\n",
    "my_gb.WriteGB(my_gb.overD,'g1', rigid, 10, 5, dim[0], dim[1], dim[2])\n"
   ]
  },
  {
   "cell_type": "code",
   "execution_count": null,
   "metadata": {},
   "outputs": [],
   "source": [
    "## extract atom positions of the two grains:\n",
    "\n",
    "X = my_gb.atoms1\n",
    "Y = my_gb.atoms2"
   ]
  },
  {
   "cell_type": "code",
   "execution_count": null,
   "metadata": {},
   "outputs": [],
   "source": [
    "# 3d plot of the gb, that can be shown in any cartesian view direction:\n",
    "\n",
    "def plot_gb(X,Y, view_dir = [0,1,0]):\n",
    "    fig = plt.figure()\n",
    "    ax = fig.add_subplot(111, projection='3d')\n",
    "    ax.scatter(X[:,0],X[:,1],X[:,2],'o', s = 20, facecolor = 'y',edgecolor='none', alpha=0.2 )\n",
    "    ax.scatter(Y[:,0],Y[:,1],Y[:,2],'o',s = 20,facecolor = 'b',edgecolor='none', alpha=0.2)\n",
    "    \n",
    "    # Show [0, 0, 0] as a red point\n",
    "    ax.scatter(0,0,0,'s',s = 200,facecolor = 'r',edgecolor='none')\n",
    "    ax.set_proj_type('ortho')\n",
    "    ax.grid(False)\n",
    "    az = degrees(atan2(view_dir[1],view_dir[0]))\n",
    "    el = degrees(asin(view_dir[2]/norm(view_dir)))\n",
    "    ax.view_init(azim = az, elev = el)       \n",
    "    ax.set_xlabel('X axis')\n",
    "    ax.set_ylabel('Y axis')\n",
    "    ax.set_zlabel('Z axis')\n",
    "    return            \n"
   ]
  },
  {
   "cell_type": "code",
   "execution_count": null,
   "metadata": {},
   "outputs": [],
   "source": [
    "%matplotlib notebook\n",
    "plot_gb(X,Y,[0,1,0])"
   ]
  }
 ],
 "metadata": {
  "anaconda-cloud": {},
  "kernelspec": {
   "display_name": "Python 3",
   "language": "python",
   "name": "python3"
  },
  "language_info": {
   "codemirror_mode": {
    "name": "ipython",
    "version": 3
   },
   "file_extension": ".py",
   "mimetype": "text/x-python",
   "name": "python",
   "nbconvert_exporter": "python",
   "pygments_lexer": "ipython3",
   "version": "3.6.5"
  }
 },
 "nbformat": 4,
 "nbformat_minor": 1
}
